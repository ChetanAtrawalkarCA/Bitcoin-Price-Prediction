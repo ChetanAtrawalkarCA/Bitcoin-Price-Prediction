{
 "cells": [
  {
   "cell_type": "code",
   "execution_count": 1,
   "id": "163b0ef7-838e-4d81-a9ed-6602a0df4cea",
   "metadata": {},
   "outputs": [],
   "source": [
    "import torch,torchvision\n",
    "import numpy as np\n",
    "import pandas as pd\n",
    "import matplotlib.pyplot as plt\n",
    "from torch.nn import *\n",
    "from torch import nn\n",
    "from sklearn.preprocessing import (\n",
    "    StandardScaler,\n",
    "    RobustScaler,\n",
    "    MinMaxScaler,\n",
    "    MaxAbsScaler,\n",
    "    OneHotEncoder,\n",
    "    LabelEncoder,\n",
    "    Normalizer,\n",
    ")\n",
    "from torch.optim import *\n",
    "device = torch.device('cuda:0')"
   ]
  },
  {
   "cell_type": "code",
   "execution_count": 2,
   "id": "fc452d2e-ac6b-44cc-ae59-db1b1ddc7019",
   "metadata": {},
   "outputs": [],
   "source": [
    "data = pd.read_csv('btcNewsToPrice2.csv')"
   ]
  },
  {
   "cell_type": "code",
   "execution_count": 3,
   "id": "2b98081d-0887-446e-b088-0305fce3d344",
   "metadata": {},
   "outputs": [
    {
     "data": {
      "text/html": [
       "<div>\n",
       "<style scoped>\n",
       "    .dataframe tbody tr th:only-of-type {\n",
       "        vertical-align: middle;\n",
       "    }\n",
       "\n",
       "    .dataframe tbody tr th {\n",
       "        vertical-align: top;\n",
       "    }\n",
       "\n",
       "    .dataframe thead th {\n",
       "        text-align: right;\n",
       "    }\n",
       "</style>\n",
       "<table border=\"1\" class=\"dataframe\">\n",
       "  <thead>\n",
       "    <tr style=\"text-align: right;\">\n",
       "      <th></th>\n",
       "      <th>date</th>\n",
       "      <th>top_0</th>\n",
       "      <th>top_1</th>\n",
       "      <th>top_2</th>\n",
       "      <th>top_3</th>\n",
       "      <th>top_4</th>\n",
       "      <th>top_5</th>\n",
       "      <th>top_6</th>\n",
       "      <th>top_7</th>\n",
       "      <th>top_8</th>\n",
       "      <th>...</th>\n",
       "      <th>top_32</th>\n",
       "      <th>top_33</th>\n",
       "      <th>top_34</th>\n",
       "      <th>top_35</th>\n",
       "      <th>price</th>\n",
       "      <th>open</th>\n",
       "      <th>high</th>\n",
       "      <th>low</th>\n",
       "      <th>vol.</th>\n",
       "      <th>change %</th>\n",
       "    </tr>\n",
       "  </thead>\n",
       "  <tbody>\n",
       "    <tr>\n",
       "      <th>0</th>\n",
       "      <td>2015-07-12</td>\n",
       "      <td>bitcoin the next logical step in the rise of u...</td>\n",
       "      <td>NaN</td>\n",
       "      <td>NaN</td>\n",
       "      <td>NaN</td>\n",
       "      <td>NaN</td>\n",
       "      <td>NaN</td>\n",
       "      <td>NaN</td>\n",
       "      <td>NaN</td>\n",
       "      <td>NaN</td>\n",
       "      <td>...</td>\n",
       "      <td>NaN</td>\n",
       "      <td>NaN</td>\n",
       "      <td>NaN</td>\n",
       "      <td>NaN</td>\n",
       "      <td>310.4</td>\n",
       "      <td>292.0</td>\n",
       "      <td>315.9</td>\n",
       "      <td>291.3</td>\n",
       "      <td>120.70K</td>\n",
       "      <td>6.33%</td>\n",
       "    </tr>\n",
       "    <tr>\n",
       "      <th>1</th>\n",
       "      <td>2015-07-13</td>\n",
       "      <td>bitgive foundation announces new initiatives a...</td>\n",
       "      <td>NaN</td>\n",
       "      <td>NaN</td>\n",
       "      <td>NaN</td>\n",
       "      <td>NaN</td>\n",
       "      <td>NaN</td>\n",
       "      <td>NaN</td>\n",
       "      <td>NaN</td>\n",
       "      <td>NaN</td>\n",
       "      <td>...</td>\n",
       "      <td>NaN</td>\n",
       "      <td>NaN</td>\n",
       "      <td>NaN</td>\n",
       "      <td>NaN</td>\n",
       "      <td>290.4</td>\n",
       "      <td>310.4</td>\n",
       "      <td>310.9</td>\n",
       "      <td>276.9</td>\n",
       "      <td>146.85K</td>\n",
       "      <td>-6.47%</td>\n",
       "    </tr>\n",
       "    <tr>\n",
       "      <th>2</th>\n",
       "      <td>2015-07-14</td>\n",
       "      <td>keynote 2015  harnessing the distributed ledge...</td>\n",
       "      <td>the blockchain  towards crypto sovereignty    ...</td>\n",
       "      <td>coinbase outage is a reminder to not store bit...</td>\n",
       "      <td>NaN</td>\n",
       "      <td>NaN</td>\n",
       "      <td>NaN</td>\n",
       "      <td>NaN</td>\n",
       "      <td>NaN</td>\n",
       "      <td>NaN</td>\n",
       "      <td>...</td>\n",
       "      <td>NaN</td>\n",
       "      <td>NaN</td>\n",
       "      <td>NaN</td>\n",
       "      <td>NaN</td>\n",
       "      <td>287.0</td>\n",
       "      <td>290.4</td>\n",
       "      <td>297.0</td>\n",
       "      <td>285.2</td>\n",
       "      <td>60.62K</td>\n",
       "      <td>-1.17%</td>\n",
       "    </tr>\n",
       "    <tr>\n",
       "      <th>3</th>\n",
       "      <td>2015-07-15</td>\n",
       "      <td>patrick byrne says   will be able to replace w...</td>\n",
       "      <td>bitcoin in review  interesting trends in q1 of...</td>\n",
       "      <td>cloudminr user accounts hacked  data sold for ...</td>\n",
       "      <td>NaN</td>\n",
       "      <td>NaN</td>\n",
       "      <td>NaN</td>\n",
       "      <td>NaN</td>\n",
       "      <td>NaN</td>\n",
       "      <td>NaN</td>\n",
       "      <td>...</td>\n",
       "      <td>NaN</td>\n",
       "      <td>NaN</td>\n",
       "      <td>NaN</td>\n",
       "      <td>NaN</td>\n",
       "      <td>283.4</td>\n",
       "      <td>287.0</td>\n",
       "      <td>292.9</td>\n",
       "      <td>283.2</td>\n",
       "      <td>59.58K</td>\n",
       "      <td>-1.23%</td>\n",
       "    </tr>\n",
       "    <tr>\n",
       "      <th>4</th>\n",
       "      <td>2015-07-16</td>\n",
       "      <td>2015 q1 bitcoin investment trumps 2014 numbers...</td>\n",
       "      <td>cash back vs bitcoin  why bitcoin can be super...</td>\n",
       "      <td>force or mathematics  fiat vs cryptocurrency  ...</td>\n",
       "      <td>NaN</td>\n",
       "      <td>NaN</td>\n",
       "      <td>NaN</td>\n",
       "      <td>NaN</td>\n",
       "      <td>NaN</td>\n",
       "      <td>NaN</td>\n",
       "      <td>...</td>\n",
       "      <td>NaN</td>\n",
       "      <td>NaN</td>\n",
       "      <td>NaN</td>\n",
       "      <td>NaN</td>\n",
       "      <td>276.6</td>\n",
       "      <td>283.4</td>\n",
       "      <td>290.8</td>\n",
       "      <td>273.3</td>\n",
       "      <td>121.32K</td>\n",
       "      <td>-2.41%</td>\n",
       "    </tr>\n",
       "  </tbody>\n",
       "</table>\n",
       "<p>5 rows × 43 columns</p>\n",
       "</div>"
      ],
      "text/plain": [
       "         date                                              top_0  \\\n",
       "0  2015-07-12  bitcoin the next logical step in the rise of u...   \n",
       "1  2015-07-13  bitgive foundation announces new initiatives a...   \n",
       "2  2015-07-14  keynote 2015  harnessing the distributed ledge...   \n",
       "3  2015-07-15  patrick byrne says   will be able to replace w...   \n",
       "4  2015-07-16  2015 q1 bitcoin investment trumps 2014 numbers...   \n",
       "\n",
       "                                               top_1  \\\n",
       "0                                                NaN   \n",
       "1                                                NaN   \n",
       "2  the blockchain  towards crypto sovereignty    ...   \n",
       "3  bitcoin in review  interesting trends in q1 of...   \n",
       "4  cash back vs bitcoin  why bitcoin can be super...   \n",
       "\n",
       "                                               top_2 top_3 top_4 top_5 top_6  \\\n",
       "0                                                NaN   NaN   NaN   NaN   NaN   \n",
       "1                                                NaN   NaN   NaN   NaN   NaN   \n",
       "2  coinbase outage is a reminder to not store bit...   NaN   NaN   NaN   NaN   \n",
       "3  cloudminr user accounts hacked  data sold for ...   NaN   NaN   NaN   NaN   \n",
       "4  force or mathematics  fiat vs cryptocurrency  ...   NaN   NaN   NaN   NaN   \n",
       "\n",
       "  top_7 top_8  ... top_32 top_33 top_34 top_35  price   open   high    low  \\\n",
       "0   NaN   NaN  ...    NaN    NaN    NaN    NaN  310.4  292.0  315.9  291.3   \n",
       "1   NaN   NaN  ...    NaN    NaN    NaN    NaN  290.4  310.4  310.9  276.9   \n",
       "2   NaN   NaN  ...    NaN    NaN    NaN    NaN  287.0  290.4  297.0  285.2   \n",
       "3   NaN   NaN  ...    NaN    NaN    NaN    NaN  283.4  287.0  292.9  283.2   \n",
       "4   NaN   NaN  ...    NaN    NaN    NaN    NaN  276.6  283.4  290.8  273.3   \n",
       "\n",
       "      vol. change %  \n",
       "0  120.70K    6.33%  \n",
       "1  146.85K   -6.47%  \n",
       "2   60.62K   -1.17%  \n",
       "3   59.58K   -1.23%  \n",
       "4  121.32K   -2.41%  \n",
       "\n",
       "[5 rows x 43 columns]"
      ]
     },
     "execution_count": 3,
     "metadata": {},
     "output_type": "execute_result"
    }
   ],
   "source": [
    "data.head()"
   ]
  },
  {
   "cell_type": "code",
   "execution_count": 4,
   "id": "17a24b76-2dd7-4f41-bba2-06acbdc0087e",
   "metadata": {},
   "outputs": [],
   "source": [
    "X = data['date'].tolist()"
   ]
  },
  {
   "cell_type": "code",
   "execution_count": 5,
   "id": "73c00b1c-84a5-4ced-a7b7-e748d6566759",
   "metadata": {},
   "outputs": [],
   "source": [
    "new_X = []"
   ]
  },
  {
   "cell_type": "code",
   "execution_count": 6,
   "id": "2fd3a7d5-3438-4665-a050-f8bc7eb54ee1",
   "metadata": {},
   "outputs": [],
   "source": [
    "for x in X:\n",
    "    x = x.split('-')\n",
    "    x = int(f'{x[0]}{x[1]}{x[2]}')\n",
    "    new_X.append(x)"
   ]
  },
  {
   "cell_type": "code",
   "execution_count": 7,
   "id": "f30389e6-d1f9-4e60-aec9-d8fc7f53e832",
   "metadata": {},
   "outputs": [],
   "source": [
    "X = new_X"
   ]
  },
  {
   "cell_type": "code",
   "execution_count": 8,
   "id": "e8d27702-9837-486a-8fd3-02245ff232b5",
   "metadata": {},
   "outputs": [],
   "source": [
    "X = torch.from_numpy(np.array(new_X))"
   ]
  },
  {
   "cell_type": "code",
   "execution_count": 9,
   "id": "041dd704-6e7d-47eb-91c8-b2f8668a91e3",
   "metadata": {},
   "outputs": [],
   "source": [
    "y = torch.from_numpy(np.array(data['price'].tolist()))"
   ]
  },
  {
   "cell_type": "code",
   "execution_count": 10,
   "id": "67f02c49-a593-4801-ab68-311280a6c977",
   "metadata": {},
   "outputs": [
    {
     "data": {
      "text/plain": [
       "Index(['date', 'top_0', 'top_1', 'top_2', 'top_3', 'top_4', 'top_5', 'top_6',\n",
       "       'top_7', 'top_8', 'top_9', 'top_10', 'top_11', 'top_12', 'top_13',\n",
       "       'top_14', 'top_15', 'top_16', 'top_17', 'top_18', 'top_19', 'top_20',\n",
       "       'top_21', 'top_22', 'top_23', 'top_24', 'top_25', 'top_26', 'top_27',\n",
       "       'top_28', 'top_29', 'top_30', 'top_31', 'top_32', 'top_33', 'top_34',\n",
       "       'top_35', 'price', 'open', 'high', 'low', 'vol.', 'change %'],\n",
       "      dtype='object')"
      ]
     },
     "execution_count": 10,
     "metadata": {},
     "output_type": "execute_result"
    }
   ],
   "source": [
    "data.columns"
   ]
  },
  {
   "cell_type": "code",
   "execution_count": 11,
   "id": "ac1c114c-6fd0-44a6-8371-414dc1d66831",
   "metadata": {},
   "outputs": [],
   "source": [
    "from sklearn.model_selection import train_test_split"
   ]
  },
  {
   "cell_type": "code",
   "execution_count": 12,
   "id": "76a37b34-3e61-4fd7-8314-1be522283aec",
   "metadata": {},
   "outputs": [
    {
     "data": {
      "image/png": "[encoded data removed]",
      "text/plain": [
       "<Figure size 432x288 with 1 Axes>"
      ]
     },
     "metadata": {
      "needs_background": "light"
     },
     "output_type": "display_data"
    }
   ],
   "source": [
    "plt.figure()\n",
    "plt.plot(X,y)\n",
    "plt.show()"
   ]
  },
  {
   "cell_type": "code",
   "execution_count": 13,
   "id": "6e85e358-b781-4947-8f5c-9d8872f48b39",
   "metadata": {},
   "outputs": [],
   "source": [
    "class LSTMPredictor(Module):\n",
    "    def __init__(self,n_hidden=512):\n",
    "        super().__init__()\n",
    "        self.n_hidden = n_hidden\n",
    "        # lstm1, lstm2, linear\n",
    "        self.lstm1 = LSTMCell(1,self.n_hidden).to(device)\n",
    "        self.lstm2 = LSTMCell(self.n_hidden,self.n_hidden).to(device)\n",
    "        self.linear = Linear(self.n_hidden,1).to(device)\n",
    "    \n",
    "    def forward(self,X,future=0):\n",
    "        outputs = []\n",
    "        n_samples = X.size(0)\n",
    "        h_t = torch.zeros(n_samples,self.n_hidden,dtype=torch.float32)\n",
    "        c_t = torch.zeros(n_samples,self.n_hidden,dtype=torch.float32)\n",
    "        h_t2 = torch.zeros(n_samples,self.n_hidden,dtype=torch.float32)\n",
    "        c_t2 = torch.zeros(n_samples,self.n_hidden,dtype=torch.float32)\n",
    "        for input_t in X.split(1,dim=1):\n",
    "            input_t = input_t.to(device)\n",
    "            h_t = h_t.to(device)\n",
    "            c_t = c_t.to(device)\n",
    "            h_t,c_t = self.lstm1(input_t,(h_t,c_t))\n",
    "            h_t = h_t.to(device)\n",
    "            c_t = c_t.to(device)\n",
    "            h_t2 = h_t2.to(device)\n",
    "            c_t2 = c_t2.to(device)\n",
    "            h_t2,c_t2 = self.lstm2(h_t,(h_t2,c_t2))\n",
    "            h_t2 = h_t2.to(device)\n",
    "            c_t2 = c_t2.to(device)\n",
    "            output = self.linear(h_t2)\n",
    "            output = output.to(device)\n",
    "            outputs.append(output)\n",
    "        for i in range(future):\n",
    "            h_t,c_t = self.lstm1(output,(h_t,c_t))\n",
    "            h_t2,c_t2 = self.lstm2(h_t,(h_t2,c_t2))\n",
    "            output = self.linear(h_t2)\n",
    "            outputs.append(output)\n",
    "        outputs = torch.cat(outputs,dim=1)\n",
    "        return outputs"
   ]
  },
  {
   "cell_type": "code",
   "execution_count": 14,
   "id": "7c2cb0a4-3c32-4b1f-9f5f-975190de3228",
   "metadata": {},
   "outputs": [],
   "source": [
    "# model = LSTMPredictor().cuda()\n",
    "# model = model.cuda()\n",
    "# model = model.to(device)"
   ]
  },
  {
   "cell_type": "code",
   "execution_count": 15,
   "id": "12dfccb7-d1ca-4b8d-ae71-15f5f2b0fc38",
   "metadata": {},
   "outputs": [],
   "source": [
    "epochs = 12"
   ]
  },
  {
   "cell_type": "code",
   "execution_count": 16,
   "id": "2c2e9f04-81ca-4f18-871d-ab17745148ec",
   "metadata": {},
   "outputs": [],
   "source": [
    "batch_size = 32"
   ]
  },
  {
   "cell_type": "code",
   "execution_count": 17,
   "id": "13a5fe4e-65ef-458b-994e-ac01a8ead3b8",
   "metadata": {},
   "outputs": [],
   "source": [
    "from tqdm import tqdm\n",
    "import wandb\n",
    "PROJECT_NAME = 'Bitcoin-Price-Prediction'"
   ]
  },
  {
   "cell_type": "code",
   "execution_count": 18,
   "id": "fd478012-ff78-4345-a8fc-e33ef4357ac7",
   "metadata": {},
   "outputs": [],
   "source": [
    "# criterion = L1Loss().to(device).cuda()\n",
    "# optimizer = LBFGS(model.parameters(),lr=0.8)"
   ]
  },
  {
   "cell_type": "code",
   "execution_count": 19,
   "id": "8cf27ba6-bc4c-4da8-873e-442a87305dba",
   "metadata": {},
   "outputs": [],
   "source": [
    "import cv2"
   ]
  },
  {
   "cell_type": "code",
   "execution_count": 20,
   "id": "dd4d125c-1d2d-475d-94fd-085c8bfc1a0e",
   "metadata": {},
   "outputs": [],
   "source": [
    "y_batch = y"
   ]
  },
  {
   "cell_type": "code",
   "execution_count": 21,
   "id": "56f56a19-361d-45e1-875a-dee7d46bb180",
   "metadata": {},
   "outputs": [],
   "source": [
    "torch.cuda.empty_cache()"
   ]
  },
  {
   "cell_type": "code",
   "execution_count": 22,
   "id": "74611f05-1160-4459-a19a-566208e401c7",
   "metadata": {},
   "outputs": [],
   "source": [
    "data_input = torch.from_numpy(np.array(y_batch)).view(1,-1)[:3,:-1].float().cuda().to(device)\n",
    "data_target = torch.from_numpy(np.array(y_batch)).view(1,-1)[:3,1:].float().cuda().to(device)"
   ]
  },
  {
   "cell_type": "code",
   "execution_count": 23,
   "id": "be0ed94f-575a-46c3-82be-9ee7178b4fbf",
   "metadata": {},
   "outputs": [
    {
     "data": {
      "text/plain": [
       "torch.Size([1, 2145])"
      ]
     },
     "execution_count": 23,
     "metadata": {},
     "output_type": "execute_result"
    }
   ],
   "source": [
    "data_input.shape"
   ]
  },
  {
   "cell_type": "code",
   "execution_count": null,
   "id": "10f381ed-2328-4e95-a5bf-0c8171ecd7fb",
   "metadata": {},
   "outputs": [
    {
     "name": "stderr",
     "output_type": "stream",
     "text": [
      "\u001b[34m\u001b[1mwandb\u001b[0m: Currently logged in as: \u001b[33mranuga-d\u001b[0m (use `wandb login --relogin` to force relogin)\n"
     ]
    },
    {
     "data": {
      "text/html": [
       "\n",
       "                Tracking run with wandb version 0.12.0<br/>\n",
       "                Syncing run <strong style=\"color:#cdcd00\">baseline</strong> to <a href=\"https://wandb.ai\" target=\"_blank\">Weights & Biases</a> <a href=\"https://docs.wandb.com/integrations/jupyter.html\" target=\"_blank\">(Documentation)</a>.<br/>\n",
       "                Project page: <a href=\"https://wandb.ai/ranuga-d/Bitcoin-Price-Prediction\" target=\"_blank\">https://wandb.ai/ranuga-d/Bitcoin-Price-Prediction</a><br/>\n",
       "                Run page: <a href=\"https://wandb.ai/ranuga-d/Bitcoin-Price-Prediction/runs/ivyfabdp\" target=\"_blank\">https://wandb.ai/ranuga-d/Bitcoin-Price-Prediction/runs/ivyfabdp</a><br/>\n",
       "                Run data is saved locally in <code>/home/indika/Programming/Projects/Python/Artifical-Intelligence/PyTorch/RNN/Bitcoin-Price-Prediction/wandb/run-20210817_223920-ivyfabdp</code><br/><br/>\n",
       "            "
      ],
      "text/plain": [
       "<IPython.core.display.HTML object>"
      ]
     },
     "metadata": {},
     "output_type": "display_data"
    },
    {
     "name": "stderr",
     "output_type": "stream",
     "text": [
      " 94%|█████████▍| 94/100 [36:57<02:21, 23.59s/it]"
     ]
    }
   ],
   "source": [
    "# torch.cuda.empty_cache()\n",
    "# model = LSTMPredictor().cuda()\n",
    "# model = model.cuda()\n",
    "# model = model.to(device)\n",
    "# criterion = MSELoss().to(device).cuda()\n",
    "# optimizer = LBFGS(model.parameters(),lr=0.8)\n",
    "# wandb.init(project=PROJECT_NAME,name=f'baseline')\n",
    "# for _ in tqdm(range(epochs)):\n",
    "#     for idx in range(0,len(data_input)):\n",
    "#         data_input_batch = data_input[idx:idx+batch_size].view(1,-1)[:3,:-1].float().cuda().to(device)\n",
    "#         data_target_batch = data_input[idx:idx+batch_size].view(1,-1)[:3,1:].float().cuda().to(device)\n",
    "#         torch.cuda.empty_cache()\n",
    "#         def closure():\n",
    "#             optimizer.zero_grad()\n",
    "#             data_input_batch.cuda()\n",
    "#             data_target_batch.cuda()\n",
    "#             model.cuda()\n",
    "#             out = model(data_input_batch.cuda()).cuda()\n",
    "#             out.cuda()\n",
    "#             loss = criterion(out,data_target_batch)\n",
    "#             wandb.log({'loss':loss.item()})\n",
    "#             loss.backward()\n",
    "#             return loss\n",
    "#         optimizer.step(closure)\n",
    "#         with torch.no_grad():\n",
    "#             future = 25\n",
    "#             pred = model(data_input_batch,future=future)\n",
    "#             loss = criterion(pred[:,:-future],data_target_batch)\n",
    "#             y = pred.to('cpu').detach().numpy()\n",
    "#             wandb.log({'Val Loss':loss.item()})\n",
    "#         plt.figure(figsize=(12,6))\n",
    "#         n = data_input_batch.shape[1]\n",
    "#         def draw(y_i,color):\n",
    "#             plt.plot(np.arange(n),data_target_batch.cpu().view(-1),color)\n",
    "#             plt.plot(np.arange(n,n+future),y_i[n:],color + ':')\n",
    "#         draw(y[0],'r')\n",
    "#         plt.savefig('./preds/img.png')\n",
    "#         plt.close()\n",
    "#         wandb.log({'Img':wandb.Image(cv2.imread('./preds/img.png'))})\n",
    "# wandb.finish()"
   ]
  },
  {
   "cell_type": "code",
   "execution_count": null,
   "id": "63851d93-f600-41ec-b154-a71c1daeb528",
   "metadata": {},
   "outputs": [],
   "source": [
    "pres = [StandardScaler(),RobustScaler(),MinMaxScaler(),MaxAbsScaler(),Normalizer()]\n",
    "for pre in pres:\n",
    "    pre = pre\n",
    "    pre.fit(y)\n",
    "    y = pre.transform(y)\n",
    "    y_batch = y\n",
    "    data_input = torch.from_numpy(np.array(y_batch)).view(1,-1)[:3,:-1].float().cuda().to(device)\n",
    "    data_target = torch.from_numpy(np.array(y_batch)).view(1,-1)[:3,1:].float().cuda().to(device)\n",
    "    torch.cuda.empty_cache()\n",
    "    model = LSTMPredictor().cuda()\n",
    "    model = model.cuda()\n",
    "    model = model.to(device)\n",
    "    criterion = MSELoss().to(device).cuda()\n",
    "    optimizer = LBFGS(model.parameters(),lr=0.8)\n",
    "    wandb.init(project=PROJECT_NAME,name=f'{pre}-pre')\n",
    "    for _ in tqdm(range(epochs)):\n",
    "        for idx in range(0,len(data_input)):\n",
    "            data_input_batch = data_input[idx:idx+batch_size].view(1,-1)[:3,:-1].float().cuda().to(device)\n",
    "            data_target_batch = data_input[idx:idx+batch_size].view(1,-1)[:3,1:].float().cuda().to(device)\n",
    "            torch.cuda.empty_cache()\n",
    "            def closure():\n",
    "                optimizer.zero_grad()\n",
    "                data_input_batch.cuda()\n",
    "                data_target_batch.cuda()\n",
    "                model.cuda()\n",
    "                out = model(data_input_batch.cuda()).cuda()\n",
    "                out.cuda()\n",
    "                loss = criterion(out,data_target_batch)\n",
    "                wandb.log({'loss':loss.item()})\n",
    "                loss.backward()\n",
    "                return loss\n",
    "            optimizer.step(closure)\n",
    "            with torch.no_grad():\n",
    "                future = 25\n",
    "                pred = model(data_input_batch,future=future)\n",
    "                loss = criterion(pred[:,:-future],data_target_batch)\n",
    "                y = pred.to('cpu').detach().numpy()\n",
    "                wandb.log({'Val Loss':loss.item()})\n",
    "            plt.figure(figsize=(12,6))\n",
    "            n = data_input_batch.shape[1]\n",
    "            def draw(y_i,color):\n",
    "                plt.plot(np.arange(n),data_target_batch.cpu().view(-1),color)\n",
    "                plt.plot(np.arange(n,n+future),y_i[n:],color + ':')\n",
    "            draw(y[0],'r')\n",
    "            plt.savefig('./preds/img.png')\n",
    "            plt.close()\n",
    "            wandb.log({'Img':wandb.Image(cv2.imread('./preds/img.png'))})\n",
    "    wandb.finish()"
   ]
  },
  {
   "cell_type": "code",
   "execution_count": null,
   "id": "bf75ba8d-4d34-4029-8c37-e8f39034fe6c",
   "metadata": {},
   "outputs": [],
   "source": [
    "# lrs = [0.1,0.2,0.3,0.4,0.5,0.6,0.7,0.8,0.9]\n",
    "# for lr in lrs:\n",
    "#     torch.cuda.empty_cache()\n",
    "#     model = LSTMPredictor().cuda()\n",
    "#     model = model.cuda()\n",
    "#     model = model.to(device)\n",
    "#     criterion = MSELoss().to(device).cuda()\n",
    "#     optimizer = LBFGS(model.parameters(),lr=lr)\n",
    "#     wandb.init(project=PROJECT_NAME,name=f'lrs-{lr}')\n",
    "#     for _ in tqdm(range(epochs)):\n",
    "#         torch.cuda.empty_cache()\n",
    "#         def closure():\n",
    "#             optimizer.zero_grad()\n",
    "#             data_input.cuda()\n",
    "#             data_target.cuda()\n",
    "#             model.cuda()\n",
    "#             out = model(data_input.cuda()).cuda()\n",
    "#             out.cuda()\n",
    "#             loss = criterion(out,data_target)\n",
    "#             wandb.log({'loss':loss.item()})\n",
    "#             loss.backward()\n",
    "#             return loss\n",
    "#         optimizer.step(closure)\n",
    "#         with torch.no_grad():\n",
    "#             future = 125\n",
    "#             pred = model(data_input,future=future)\n",
    "#             loss = criterion(pred[:,:-future],data_target)\n",
    "#             y = pred.to('cpu').detach().numpy()\n",
    "#             wandb.log({'Val Loss':loss.item()})\n",
    "#         plt.figure(figsize=(12,6))\n",
    "#         n = data_input.shape[1]\n",
    "#         def draw(y_i,color):\n",
    "#             plt.plot(np.arange(n),data_target.cpu().view(-1),color)\n",
    "#             plt.plot(np.arange(n,n+future),y_i[n:],color + ':')\n",
    "#         draw(y[0],'r')\n",
    "#         plt.savefig('./preds/img.png')\n",
    "#         plt.close()\n",
    "#         wandb.log({'Img':wandb.Image(cv2.imread('./preds/img.png'))})\n",
    "#     wandb.finish()"
   ]
  },
  {
   "cell_type": "code",
   "execution_count": null,
   "id": "ac88b1d9-fa91-436a-a279-fc96934e143b",
   "metadata": {},
   "outputs": [],
   "source": [
    "# criterions = [MSELoss(),L1Loss()]\n",
    "# for criterion in criterions:\n",
    "#     torch.cuda.empty_cache()\n",
    "#     model = LSTMPredictor().cuda()\n",
    "#     model = model.cuda()\n",
    "#     model = model.to(device)\n",
    "#     criterion = criterion.to(device).cuda()\n",
    "#     optimizer = LBFGS(model.parameters(),lr=)\n",
    "#     wandb.init(project=PROJECT_NAME,name=f'criterion-{criterion}')\n",
    "#     for _ in tqdm(range(epochs)):\n",
    "#         torch.cuda.empty_cache()\n",
    "#         def closure():\n",
    "#             optimizer.zero_grad()\n",
    "#             data_input.cuda()\n",
    "#             data_target.cuda()\n",
    "#             model.cuda()\n",
    "#             out = model(data_input.cuda()).cuda()\n",
    "#             out.cuda()\n",
    "#             loss = criterion(out,data_target)\n",
    "#             wandb.log({'loss':loss.item()})\n",
    "#             loss.backward()\n",
    "#             return loss\n",
    "#         optimizer.step(closure)\n",
    "#         with torch.no_grad():\n",
    "#             future = 125\n",
    "#             pred = model(data_input,future=future)\n",
    "#             loss = criterion(pred[:,:-future],data_target)\n",
    "#             y = pred.to('cpu').detach().numpy()\n",
    "#             wandb.log({'Val Loss':loss.item()})\n",
    "#         plt.figure(figsize=(12,6))\n",
    "#         n = data_input.shape[1]\n",
    "#         def draw(y_i,color):\n",
    "#             plt.plot(np.arange(n),data_target.cpu().view(-1),color)\n",
    "#             plt.plot(np.arange(n,n+future),y_i[n:],color + ':')\n",
    "#         draw(y[0],'r')\n",
    "#         plt.savefig('./preds/img.png')\n",
    "#         plt.close()\n",
    "#         wandb.log({'Img':wandb.Image(cv2.imread('./preds/img.png'))})\n",
    "#     wandb.finish()"
   ]
  },
  {
   "cell_type": "code",
   "execution_count": null,
   "id": "c7c46e25-3f9f-4947-81fc-b61a5bdc40e2",
   "metadata": {},
   "outputs": [],
   "source": [
    "# n_hiddens = [16,32,64,128,256,512,1024,2048]\n",
    "# for n_hidden in n_hiddens:\n",
    "#     torch.cuda.empty_cache()\n",
    "#     model = LSTMPredictor(n_hidden=n_hidden).cuda()\n",
    "#     model = model.cuda()\n",
    "#     model = model.to(device)\n",
    "#     criterion = .to(device).cuda()\n",
    "#     optimizer = LBFGS(model.parameters(),lr=)\n",
    "#     wandb.init(project=PROJECT_NAME,name=f'n_hidden-{n_hidden}')\n",
    "#     for _ in tqdm(range(epochs)):\n",
    "#         torch.cuda.empty_cache()\n",
    "#         def closure():\n",
    "#             optimizer.zero_grad()\n",
    "#             data_input.cuda()\n",
    "#             data_target.cuda()\n",
    "#             model.cuda()\n",
    "#             out = model(data_input.cuda()).cuda()\n",
    "#             out.cuda()\n",
    "#             loss = criterion(out,data_target)\n",
    "#             wandb.log({'loss':loss.item()})\n",
    "#             loss.backward()\n",
    "#             return loss\n",
    "#         optimizer.step(closure)\n",
    "#         with torch.no_grad():\n",
    "#             future = 125\n",
    "#             pred = model(data_input,future=future)\n",
    "#             loss = criterion(pred[:,:-future],data_target)\n",
    "#             y = pred.to('cpu').detach().numpy()\n",
    "#             wandb.log({'Val Loss':loss.item()})\n",
    "#         plt.figure(figsize=(12,6))\n",
    "#         n = data_input.shape[1]\n",
    "#         def draw(y_i,color):\n",
    "#             plt.plot(np.arange(n),data_target.cpu().view(-1),color)\n",
    "#             plt.plot(np.arange(n,n+future),y_i[n:],color + ':')\n",
    "#         draw(y[0],'r')\n",
    "#         plt.savefig('./preds/img.png')\n",
    "#         plt.close()\n",
    "#         wandb.log({'Img':wandb.Image(cv2.imread('./preds/img.png'))})\n",
    "#     wandb.finish()"
   ]
  },
  {
   "cell_type": "code",
   "execution_count": null,
   "id": "cdc3bd10-0732-44c1-8928-6d1de34801e2",
   "metadata": {},
   "outputs": [],
   "source": []
  },
  {
   "cell_type": "code",
   "execution_count": null,
   "id": "60b31ff9-d1d1-4024-81b1-1a67ef958349",
   "metadata": {},
   "outputs": [],
   "source": []
  },
  {
   "cell_type": "code",
   "execution_count": null,
   "id": "cf07b392-b33f-4b16-8e75-58864e83e88d",
   "metadata": {},
   "outputs": [],
   "source": []
  },
  {
   "cell_type": "code",
   "execution_count": null,
   "id": "7f7ee5d3-aa28-44f3-bc67-5c57958ae943",
   "metadata": {},
   "outputs": [],
   "source": []
  },
  {
   "cell_type": "code",
   "execution_count": null,
   "id": "283e5cc9-2f60-457f-aaf6-d297d8c09321",
   "metadata": {},
   "outputs": [],
   "source": []
  },
  {
   "cell_type": "code",
   "execution_count": null,
   "id": "a1b0f1c0-eb5d-4d22-ba8e-ecc86da6ae1b",
   "metadata": {},
   "outputs": [],
   "source": []
  },
  {
   "cell_type": "code",
   "execution_count": null,
   "id": "6f58e424-37dc-4e00-9d34-7d501ed963d2",
   "metadata": {},
   "outputs": [],
   "source": []
  },
  {
   "cell_type": "code",
   "execution_count": null,
   "id": "ee17682a-ffc0-4d97-a279-cb1cd0740b28",
   "metadata": {},
   "outputs": [],
   "source": []
  }
 ],
 "metadata": {
  "kernelspec": {
   "display_name": "Python 3.7.3 64-bit ('base': conda)",
   "language": "python",
   "name": "python373jvsc74a57bd0210f9608a45c0278a93c9e0b10db32a427986ab48cfc0d20c139811eb78c4bbc"
  },
  "language_info": {
   "codemirror_mode": {
    "name": "ipython",
    "version": 3
   },
   "file_extension": ".py",
   "mimetype": "text/x-python",
   "name": "python",
   "nbconvert_exporter": "python",
   "pygments_lexer": "ipython3",
   "version": "3.7.7"
  }
 },
 "nbformat": 4,
 "nbformat_minor": 5
}
